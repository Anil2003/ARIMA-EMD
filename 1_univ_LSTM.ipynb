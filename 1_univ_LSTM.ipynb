{
  "nbformat": 4,
  "nbformat_minor": 0,
  "metadata": {
    "colab": {
      "name": "1_univ_LSTM.ipynb",
      "provenance": [],
      "collapsed_sections": [],
      "include_colab_link": true
    },
    "kernelspec": {
      "display_name": "Python 3",
      "language": "python",
      "name": "python3"
    },
    "language_info": {
      "codemirror_mode": {
        "name": "ipython",
        "version": 3
      },
      "file_extension": ".py",
      "mimetype": "text/x-python",
      "name": "python",
      "nbconvert_exporter": "python",
      "pygments_lexer": "ipython3",
      "version": "3.6.13"
    }
  },
  "cells": [
    {
      "cell_type": "markdown",
      "metadata": {
        "id": "view-in-github",
        "colab_type": "text"
      },
      "source": [
        "<a href=\"https://colab.research.google.com/github/Anil2003/ARIMA-EMD/blob/main/1_univ_LSTM.ipynb\" target=\"_parent\"><img src=\"https://colab.research.google.com/assets/colab-badge.svg\" alt=\"Open In Colab\"/></a>"
      ]
    },
    {
      "cell_type": "code",
      "metadata": {
        "id": "XsqLRPWYUwrs"
      },
      "source": [
        "import numpy as np\n",
        "import pandas as pd\n",
        "import matplotlib.pyplot as plt\n",
        "import statsmodels.api as sm\n",
        "from statsmodels.graphics.api import qqplot\n",
        "from sklearn.metrics import mean_squared_error as mse\n",
        "%matplotlib inline"
      ],
      "execution_count": null,
      "outputs": []
    },
    {
      "cell_type": "code",
      "metadata": {
        "id": "h0gV0Aad0Wgc"
      },
      "source": [
        "import pandas as pd\n",
        "import numpy as np\n",
        "import matplotlib.pyplot as plt\n",
        "from datetime import datetime\n",
        "from pandas import Series\n",
        "%matplotlib inline\n",
        "import warnings\n",
        "warnings.filterwarnings(\"ignore\")\n",
        "import numpy as np\n",
        "import tensorflow as tf\n",
        "import random as rn\n",
        "from keras.models import Sequential\n",
        "from keras.layers import Activation\n",
        "from keras.layers import LSTM\n",
        "from keras.layers import Dense, LSTM, Dropout, Activation\n",
        "from sklearn.preprocessing import MinMaxScaler\n",
        "import os\n",
        "from keras import optimizers\n",
        "from keras.layers import GRU\n",
        "\n",
        "from keras.utils.vis_utils import plot_model\n",
        "\n",
        "import matplotlib.pyplot as plt\n",
        "%matplotlib inline\n",
        "\n",
        "os.environ['PYTHONHASHSEED'] = '0'\n",
        "\n",
        "np.random.seed(2017)  \n",
        "rn.seed(12345)\n",
        "\n",
        "# Force TensorFlow to use single thread.\n",
        "# Multiple threads are a potential source of non-reproducible results.\n",
        "# For further details, see: https://stackoverflow.com/questions/42022950/\n",
        "\n",
        "#session_conf = tf.ConfigProto(intra_op_parallelism_threads=1,\n",
        "#                              inter_op_parallelism_threads=1, allow_soft_placement=True, device_count = {'CPU': 1})\n",
        "\n",
        "from keras import backend as K\n",
        "\n",
        "# The below tf.set_random_seed() will make random number generation\n",
        "# in the TensorFlow backend have a well-defined initial state.\n",
        "# For further details, see:\n",
        "# https://www.tensorflow.org/api_docs/python/tf/set_random_seed\n",
        "\n",
        "#tf.set_random_seed(1234)\n",
        "\n",
        "#sess = tf.Session(graph=tf.get_default_graph(), config=session_conf)\n",
        "#K.set_session(sess)"
      ],
      "execution_count": null,
      "outputs": []
    },
    {
      "cell_type": "code",
      "metadata": {
        "id": "JXdjWcxKGmzK"
      },
      "source": [
        "# Code to read csv file into Colaboratory:\n",
        "!pip install -U -q PyDrive\n",
        "from pydrive.auth import GoogleAuth\n",
        "from pydrive.drive import GoogleDrive\n",
        "from google.colab import auth\n",
        "from oauth2client.client import GoogleCredentials\n",
        "# Authenticate and create the PyDrive client.\n",
        "auth.authenticate_user()\n",
        "gauth = GoogleAuth()\n",
        "gauth.credentials = GoogleCredentials.get_application_default()\n",
        "drive = GoogleDrive(gauth)"
      ],
      "execution_count": null,
      "outputs": []
    },
    {
      "cell_type": "code",
      "metadata": {
        "id": "GFiu0jitWAtX"
      },
      "source": [
        "import numpy as np\n",
        "import tensorflow as tf\n",
        "import random as rn\n",
        "from keras.models import Sequential\n",
        "from keras.layers import Activation\n",
        "from keras.layers import LSTM\n",
        "from keras.layers import Dense, LSTM, Dropout, Activation\n",
        "from sklearn.preprocessing import MinMaxScaler\n",
        "import os\n",
        "import pandas as pd\n",
        "from keras import optimizers"
      ],
      "execution_count": null,
      "outputs": []
    },
    {
      "cell_type": "code",
      "metadata": {
        "colab": {
          "base_uri": "https://localhost:8080/",
          "height": 438
        },
        "id": "SCbOohkw1Awb",
        "outputId": "bb9c8baa-5be1-4c77-83ca-707eca0d4e47"
      },
      "source": [
        "#x1 = pd.read_csv('rewa.csv', skiprows=(10))\n",
        "#x2 = pd.read_excel('region1.xlsx', skiprows=(10))\n",
        "x3 = pd.read_csv('16883-2011.csv', skiprows=(3))\n",
        "#print(x1.head(10))\n",
        "#print(x2.head(10))\n",
        "print(x3.head(10))"
      ],
      "execution_count": null,
      "outputs": [
        {
          "output_type": "error",
          "ename": "FileNotFoundError",
          "evalue": "ignored",
          "traceback": [
            "\u001b[0;31m---------------------------------------------------------------------------\u001b[0m",
            "\u001b[0;31mFileNotFoundError\u001b[0m                         Traceback (most recent call last)",
            "\u001b[0;32m<ipython-input-18-f0f6ae46a528>\u001b[0m in \u001b[0;36m<module>\u001b[0;34m()\u001b[0m\n\u001b[1;32m      1\u001b[0m \u001b[0;31m#x1 = pd.read_csv('rewa.csv', skiprows=(10))\u001b[0m\u001b[0;34m\u001b[0m\u001b[0;34m\u001b[0m\u001b[0;34m\u001b[0m\u001b[0m\n\u001b[1;32m      2\u001b[0m \u001b[0;31m#x2 = pd.read_excel('region1.xlsx', skiprows=(10))\u001b[0m\u001b[0;34m\u001b[0m\u001b[0;34m\u001b[0m\u001b[0;34m\u001b[0m\u001b[0m\n\u001b[0;32m----> 3\u001b[0;31m \u001b[0mx3\u001b[0m \u001b[0;34m=\u001b[0m \u001b[0mpd\u001b[0m\u001b[0;34m.\u001b[0m\u001b[0mread_csv\u001b[0m\u001b[0;34m(\u001b[0m\u001b[0;34m'16883-2011.csv'\u001b[0m\u001b[0;34m,\u001b[0m \u001b[0mskiprows\u001b[0m\u001b[0;34m=\u001b[0m\u001b[0;34m(\u001b[0m\u001b[0;36m3\u001b[0m\u001b[0;34m)\u001b[0m\u001b[0;34m)\u001b[0m\u001b[0;34m\u001b[0m\u001b[0;34m\u001b[0m\u001b[0m\n\u001b[0m\u001b[1;32m      4\u001b[0m \u001b[0;31m#print(x1.head(10))\u001b[0m\u001b[0;34m\u001b[0m\u001b[0;34m\u001b[0m\u001b[0;34m\u001b[0m\u001b[0m\n\u001b[1;32m      5\u001b[0m \u001b[0;31m#print(x2.head(10))\u001b[0m\u001b[0;34m\u001b[0m\u001b[0;34m\u001b[0m\u001b[0;34m\u001b[0m\u001b[0m\n",
            "\u001b[0;32m/usr/local/lib/python3.7/dist-packages/pandas/io/parsers.py\u001b[0m in \u001b[0;36mread_csv\u001b[0;34m(filepath_or_buffer, sep, delimiter, header, names, index_col, usecols, squeeze, prefix, mangle_dupe_cols, dtype, engine, converters, true_values, false_values, skipinitialspace, skiprows, skipfooter, nrows, na_values, keep_default_na, na_filter, verbose, skip_blank_lines, parse_dates, infer_datetime_format, keep_date_col, date_parser, dayfirst, cache_dates, iterator, chunksize, compression, thousands, decimal, lineterminator, quotechar, quoting, doublequote, escapechar, comment, encoding, dialect, error_bad_lines, warn_bad_lines, delim_whitespace, low_memory, memory_map, float_precision)\u001b[0m\n\u001b[1;32m    686\u001b[0m     )\n\u001b[1;32m    687\u001b[0m \u001b[0;34m\u001b[0m\u001b[0m\n\u001b[0;32m--> 688\u001b[0;31m     \u001b[0;32mreturn\u001b[0m \u001b[0m_read\u001b[0m\u001b[0;34m(\u001b[0m\u001b[0mfilepath_or_buffer\u001b[0m\u001b[0;34m,\u001b[0m \u001b[0mkwds\u001b[0m\u001b[0;34m)\u001b[0m\u001b[0;34m\u001b[0m\u001b[0;34m\u001b[0m\u001b[0m\n\u001b[0m\u001b[1;32m    689\u001b[0m \u001b[0;34m\u001b[0m\u001b[0m\n\u001b[1;32m    690\u001b[0m \u001b[0;34m\u001b[0m\u001b[0m\n",
            "\u001b[0;32m/usr/local/lib/python3.7/dist-packages/pandas/io/parsers.py\u001b[0m in \u001b[0;36m_read\u001b[0;34m(filepath_or_buffer, kwds)\u001b[0m\n\u001b[1;32m    452\u001b[0m \u001b[0;34m\u001b[0m\u001b[0m\n\u001b[1;32m    453\u001b[0m     \u001b[0;31m# Create the parser.\u001b[0m\u001b[0;34m\u001b[0m\u001b[0;34m\u001b[0m\u001b[0;34m\u001b[0m\u001b[0m\n\u001b[0;32m--> 454\u001b[0;31m     \u001b[0mparser\u001b[0m \u001b[0;34m=\u001b[0m \u001b[0mTextFileReader\u001b[0m\u001b[0;34m(\u001b[0m\u001b[0mfp_or_buf\u001b[0m\u001b[0;34m,\u001b[0m \u001b[0;34m**\u001b[0m\u001b[0mkwds\u001b[0m\u001b[0;34m)\u001b[0m\u001b[0;34m\u001b[0m\u001b[0;34m\u001b[0m\u001b[0m\n\u001b[0m\u001b[1;32m    455\u001b[0m \u001b[0;34m\u001b[0m\u001b[0m\n\u001b[1;32m    456\u001b[0m     \u001b[0;32mif\u001b[0m \u001b[0mchunksize\u001b[0m \u001b[0;32mor\u001b[0m \u001b[0miterator\u001b[0m\u001b[0;34m:\u001b[0m\u001b[0;34m\u001b[0m\u001b[0;34m\u001b[0m\u001b[0m\n",
            "\u001b[0;32m/usr/local/lib/python3.7/dist-packages/pandas/io/parsers.py\u001b[0m in \u001b[0;36m__init__\u001b[0;34m(self, f, engine, **kwds)\u001b[0m\n\u001b[1;32m    946\u001b[0m             \u001b[0mself\u001b[0m\u001b[0;34m.\u001b[0m\u001b[0moptions\u001b[0m\u001b[0;34m[\u001b[0m\u001b[0;34m\"has_index_names\"\u001b[0m\u001b[0;34m]\u001b[0m \u001b[0;34m=\u001b[0m \u001b[0mkwds\u001b[0m\u001b[0;34m[\u001b[0m\u001b[0;34m\"has_index_names\"\u001b[0m\u001b[0;34m]\u001b[0m\u001b[0;34m\u001b[0m\u001b[0;34m\u001b[0m\u001b[0m\n\u001b[1;32m    947\u001b[0m \u001b[0;34m\u001b[0m\u001b[0m\n\u001b[0;32m--> 948\u001b[0;31m         \u001b[0mself\u001b[0m\u001b[0;34m.\u001b[0m\u001b[0m_make_engine\u001b[0m\u001b[0;34m(\u001b[0m\u001b[0mself\u001b[0m\u001b[0;34m.\u001b[0m\u001b[0mengine\u001b[0m\u001b[0;34m)\u001b[0m\u001b[0;34m\u001b[0m\u001b[0;34m\u001b[0m\u001b[0m\n\u001b[0m\u001b[1;32m    949\u001b[0m \u001b[0;34m\u001b[0m\u001b[0m\n\u001b[1;32m    950\u001b[0m     \u001b[0;32mdef\u001b[0m \u001b[0mclose\u001b[0m\u001b[0;34m(\u001b[0m\u001b[0mself\u001b[0m\u001b[0;34m)\u001b[0m\u001b[0;34m:\u001b[0m\u001b[0;34m\u001b[0m\u001b[0;34m\u001b[0m\u001b[0m\n",
            "\u001b[0;32m/usr/local/lib/python3.7/dist-packages/pandas/io/parsers.py\u001b[0m in \u001b[0;36m_make_engine\u001b[0;34m(self, engine)\u001b[0m\n\u001b[1;32m   1178\u001b[0m     \u001b[0;32mdef\u001b[0m \u001b[0m_make_engine\u001b[0m\u001b[0;34m(\u001b[0m\u001b[0mself\u001b[0m\u001b[0;34m,\u001b[0m \u001b[0mengine\u001b[0m\u001b[0;34m=\u001b[0m\u001b[0;34m\"c\"\u001b[0m\u001b[0;34m)\u001b[0m\u001b[0;34m:\u001b[0m\u001b[0;34m\u001b[0m\u001b[0;34m\u001b[0m\u001b[0m\n\u001b[1;32m   1179\u001b[0m         \u001b[0;32mif\u001b[0m \u001b[0mengine\u001b[0m \u001b[0;34m==\u001b[0m \u001b[0;34m\"c\"\u001b[0m\u001b[0;34m:\u001b[0m\u001b[0;34m\u001b[0m\u001b[0;34m\u001b[0m\u001b[0m\n\u001b[0;32m-> 1180\u001b[0;31m             \u001b[0mself\u001b[0m\u001b[0;34m.\u001b[0m\u001b[0m_engine\u001b[0m \u001b[0;34m=\u001b[0m \u001b[0mCParserWrapper\u001b[0m\u001b[0;34m(\u001b[0m\u001b[0mself\u001b[0m\u001b[0;34m.\u001b[0m\u001b[0mf\u001b[0m\u001b[0;34m,\u001b[0m \u001b[0;34m**\u001b[0m\u001b[0mself\u001b[0m\u001b[0;34m.\u001b[0m\u001b[0moptions\u001b[0m\u001b[0;34m)\u001b[0m\u001b[0;34m\u001b[0m\u001b[0;34m\u001b[0m\u001b[0m\n\u001b[0m\u001b[1;32m   1181\u001b[0m         \u001b[0;32melse\u001b[0m\u001b[0;34m:\u001b[0m\u001b[0;34m\u001b[0m\u001b[0;34m\u001b[0m\u001b[0m\n\u001b[1;32m   1182\u001b[0m             \u001b[0;32mif\u001b[0m \u001b[0mengine\u001b[0m \u001b[0;34m==\u001b[0m \u001b[0;34m\"python\"\u001b[0m\u001b[0;34m:\u001b[0m\u001b[0;34m\u001b[0m\u001b[0;34m\u001b[0m\u001b[0m\n",
            "\u001b[0;32m/usr/local/lib/python3.7/dist-packages/pandas/io/parsers.py\u001b[0m in \u001b[0;36m__init__\u001b[0;34m(self, src, **kwds)\u001b[0m\n\u001b[1;32m   2008\u001b[0m         \u001b[0mkwds\u001b[0m\u001b[0;34m[\u001b[0m\u001b[0;34m\"usecols\"\u001b[0m\u001b[0;34m]\u001b[0m \u001b[0;34m=\u001b[0m \u001b[0mself\u001b[0m\u001b[0;34m.\u001b[0m\u001b[0musecols\u001b[0m\u001b[0;34m\u001b[0m\u001b[0;34m\u001b[0m\u001b[0m\n\u001b[1;32m   2009\u001b[0m \u001b[0;34m\u001b[0m\u001b[0m\n\u001b[0;32m-> 2010\u001b[0;31m         \u001b[0mself\u001b[0m\u001b[0;34m.\u001b[0m\u001b[0m_reader\u001b[0m \u001b[0;34m=\u001b[0m \u001b[0mparsers\u001b[0m\u001b[0;34m.\u001b[0m\u001b[0mTextReader\u001b[0m\u001b[0;34m(\u001b[0m\u001b[0msrc\u001b[0m\u001b[0;34m,\u001b[0m \u001b[0;34m**\u001b[0m\u001b[0mkwds\u001b[0m\u001b[0;34m)\u001b[0m\u001b[0;34m\u001b[0m\u001b[0;34m\u001b[0m\u001b[0m\n\u001b[0m\u001b[1;32m   2011\u001b[0m         \u001b[0mself\u001b[0m\u001b[0;34m.\u001b[0m\u001b[0munnamed_cols\u001b[0m \u001b[0;34m=\u001b[0m \u001b[0mself\u001b[0m\u001b[0;34m.\u001b[0m\u001b[0m_reader\u001b[0m\u001b[0;34m.\u001b[0m\u001b[0munnamed_cols\u001b[0m\u001b[0;34m\u001b[0m\u001b[0;34m\u001b[0m\u001b[0m\n\u001b[1;32m   2012\u001b[0m \u001b[0;34m\u001b[0m\u001b[0m\n",
            "\u001b[0;32mpandas/_libs/parsers.pyx\u001b[0m in \u001b[0;36mpandas._libs.parsers.TextReader.__cinit__\u001b[0;34m()\u001b[0m\n",
            "\u001b[0;32mpandas/_libs/parsers.pyx\u001b[0m in \u001b[0;36mpandas._libs.parsers.TextReader._setup_parser_source\u001b[0;34m()\u001b[0m\n",
            "\u001b[0;31mFileNotFoundError\u001b[0m: [Errno 2] No such file or directory: '16883-2011.csv'"
          ]
        }
      ]
    },
    {
      "cell_type": "code",
      "metadata": {
        "id": "R1fsCGvLsscx"
      },
      "source": [
        "from google.colab import drive\n",
        "drive.mount('/content/drive')"
      ],
      "execution_count": null,
      "outputs": []
    },
    {
      "cell_type": "code",
      "metadata": {
        "colab": {
          "base_uri": "https://localhost:8080/",
          "height": 424
        },
        "id": "qdqO4mr9cWLr",
        "outputId": "0bfb76c5-9fa0-4f14-9313-c991cecf2a04"
      },
      "source": [
        "dta = x3\n",
        "dta"
      ],
      "execution_count": null,
      "outputs": [
        {
          "output_type": "execute_result",
          "data": {
            "text/html": [
              "<div>\n",
              "<style scoped>\n",
              "    .dataframe tbody tr th:only-of-type {\n",
              "        vertical-align: middle;\n",
              "    }\n",
              "\n",
              "    .dataframe tbody tr th {\n",
              "        vertical-align: top;\n",
              "    }\n",
              "\n",
              "    .dataframe thead th {\n",
              "        text-align: right;\n",
              "    }\n",
              "</style>\n",
              "<table border=\"1\" class=\"dataframe\">\n",
              "  <thead>\n",
              "    <tr style=\"text-align: right;\">\n",
              "      <th></th>\n",
              "      <th>Year</th>\n",
              "      <th>Month</th>\n",
              "      <th>Day</th>\n",
              "      <th>Hour</th>\n",
              "      <th>Minute</th>\n",
              "      <th>GHI</th>\n",
              "      <th>GHI.1</th>\n",
              "      <th>GHI.2</th>\n",
              "      <th>GHI.3</th>\n",
              "      <th>GHI.4</th>\n",
              "      <th>GHI.5</th>\n",
              "      <th>GHI.6</th>\n",
              "      <th>GHI.7</th>\n",
              "      <th>GHI.8</th>\n",
              "      <th>GHI.9</th>\n",
              "      <th>GHI.10</th>\n",
              "      <th>GHI.11</th>\n",
              "      <th>GHI.12</th>\n",
              "      <th>GHI.13</th>\n",
              "      <th>GHI.14</th>\n",
              "      <th>GHI.15</th>\n",
              "      <th>GHI.16</th>\n",
              "      <th>GHI.17</th>\n",
              "      <th>GHI.18</th>\n",
              "    </tr>\n",
              "  </thead>\n",
              "  <tbody>\n",
              "    <tr>\n",
              "      <th>0</th>\n",
              "      <td>2005</td>\n",
              "      <td>1</td>\n",
              "      <td>1</td>\n",
              "      <td>7</td>\n",
              "      <td>0</td>\n",
              "      <td>41</td>\n",
              "      <td>23</td>\n",
              "      <td>89</td>\n",
              "      <td>61</td>\n",
              "      <td>24</td>\n",
              "      <td>69</td>\n",
              "      <td>52</td>\n",
              "      <td>79</td>\n",
              "      <td>65</td>\n",
              "      <td>53</td>\n",
              "      <td>63</td>\n",
              "      <td>51</td>\n",
              "      <td>29</td>\n",
              "      <td>48</td>\n",
              "      <td>79</td>\n",
              "      <td>70</td>\n",
              "      <td>87</td>\n",
              "      <td>55</td>\n",
              "      <td>59</td>\n",
              "    </tr>\n",
              "    <tr>\n",
              "      <th>1</th>\n",
              "      <td>2005</td>\n",
              "      <td>1</td>\n",
              "      <td>1</td>\n",
              "      <td>8</td>\n",
              "      <td>0</td>\n",
              "      <td>85</td>\n",
              "      <td>125</td>\n",
              "      <td>286</td>\n",
              "      <td>135</td>\n",
              "      <td>98</td>\n",
              "      <td>284</td>\n",
              "      <td>178</td>\n",
              "      <td>181</td>\n",
              "      <td>167</td>\n",
              "      <td>126</td>\n",
              "      <td>185</td>\n",
              "      <td>80</td>\n",
              "      <td>123</td>\n",
              "      <td>168</td>\n",
              "      <td>245</td>\n",
              "      <td>205</td>\n",
              "      <td>298</td>\n",
              "      <td>191</td>\n",
              "      <td>266</td>\n",
              "    </tr>\n",
              "    <tr>\n",
              "      <th>2</th>\n",
              "      <td>2005</td>\n",
              "      <td>1</td>\n",
              "      <td>1</td>\n",
              "      <td>9</td>\n",
              "      <td>0</td>\n",
              "      <td>146</td>\n",
              "      <td>280</td>\n",
              "      <td>402</td>\n",
              "      <td>236</td>\n",
              "      <td>260</td>\n",
              "      <td>403</td>\n",
              "      <td>285</td>\n",
              "      <td>374</td>\n",
              "      <td>277</td>\n",
              "      <td>370</td>\n",
              "      <td>320</td>\n",
              "      <td>386</td>\n",
              "      <td>286</td>\n",
              "      <td>409</td>\n",
              "      <td>352</td>\n",
              "      <td>204</td>\n",
              "      <td>416</td>\n",
              "      <td>354</td>\n",
              "      <td>341</td>\n",
              "    </tr>\n",
              "    <tr>\n",
              "      <th>3</th>\n",
              "      <td>2005</td>\n",
              "      <td>1</td>\n",
              "      <td>1</td>\n",
              "      <td>10</td>\n",
              "      <td>0</td>\n",
              "      <td>145</td>\n",
              "      <td>204</td>\n",
              "      <td>567</td>\n",
              "      <td>350</td>\n",
              "      <td>380</td>\n",
              "      <td>597</td>\n",
              "      <td>443</td>\n",
              "      <td>419</td>\n",
              "      <td>536</td>\n",
              "      <td>561</td>\n",
              "      <td>424</td>\n",
              "      <td>493</td>\n",
              "      <td>230</td>\n",
              "      <td>322</td>\n",
              "      <td>403</td>\n",
              "      <td>570</td>\n",
              "      <td>539</td>\n",
              "      <td>377</td>\n",
              "      <td>493</td>\n",
              "    </tr>\n",
              "    <tr>\n",
              "      <th>4</th>\n",
              "      <td>2005</td>\n",
              "      <td>1</td>\n",
              "      <td>1</td>\n",
              "      <td>11</td>\n",
              "      <td>0</td>\n",
              "      <td>134</td>\n",
              "      <td>184</td>\n",
              "      <td>405</td>\n",
              "      <td>281</td>\n",
              "      <td>326</td>\n",
              "      <td>510</td>\n",
              "      <td>474</td>\n",
              "      <td>576</td>\n",
              "      <td>192</td>\n",
              "      <td>326</td>\n",
              "      <td>454</td>\n",
              "      <td>627</td>\n",
              "      <td>483</td>\n",
              "      <td>195</td>\n",
              "      <td>587</td>\n",
              "      <td>566</td>\n",
              "      <td>571</td>\n",
              "      <td>644</td>\n",
              "      <td>325</td>\n",
              "    </tr>\n",
              "    <tr>\n",
              "      <th>...</th>\n",
              "      <td>...</td>\n",
              "      <td>...</td>\n",
              "      <td>...</td>\n",
              "      <td>...</td>\n",
              "      <td>...</td>\n",
              "      <td>...</td>\n",
              "      <td>...</td>\n",
              "      <td>...</td>\n",
              "      <td>...</td>\n",
              "      <td>...</td>\n",
              "      <td>...</td>\n",
              "      <td>...</td>\n",
              "      <td>...</td>\n",
              "      <td>...</td>\n",
              "      <td>...</td>\n",
              "      <td>...</td>\n",
              "      <td>...</td>\n",
              "      <td>...</td>\n",
              "      <td>...</td>\n",
              "      <td>...</td>\n",
              "      <td>...</td>\n",
              "      <td>...</td>\n",
              "      <td>...</td>\n",
              "      <td>...</td>\n",
              "    </tr>\n",
              "    <tr>\n",
              "      <th>43156</th>\n",
              "      <td>2014</td>\n",
              "      <td>12</td>\n",
              "      <td>31</td>\n",
              "      <td>12</td>\n",
              "      <td>0</td>\n",
              "      <td>198</td>\n",
              "      <td>234</td>\n",
              "      <td>615</td>\n",
              "      <td>179</td>\n",
              "      <td>621</td>\n",
              "      <td>674</td>\n",
              "      <td>627</td>\n",
              "      <td>675</td>\n",
              "      <td>327</td>\n",
              "      <td>630</td>\n",
              "      <td>652</td>\n",
              "      <td>617</td>\n",
              "      <td>462</td>\n",
              "      <td>364</td>\n",
              "      <td>668</td>\n",
              "      <td>449</td>\n",
              "      <td>685</td>\n",
              "      <td>683</td>\n",
              "      <td>655</td>\n",
              "    </tr>\n",
              "    <tr>\n",
              "      <th>43157</th>\n",
              "      <td>2014</td>\n",
              "      <td>12</td>\n",
              "      <td>31</td>\n",
              "      <td>13</td>\n",
              "      <td>0</td>\n",
              "      <td>164</td>\n",
              "      <td>300</td>\n",
              "      <td>327</td>\n",
              "      <td>445</td>\n",
              "      <td>487</td>\n",
              "      <td>575</td>\n",
              "      <td>562</td>\n",
              "      <td>612</td>\n",
              "      <td>244</td>\n",
              "      <td>568</td>\n",
              "      <td>587</td>\n",
              "      <td>553</td>\n",
              "      <td>445</td>\n",
              "      <td>261</td>\n",
              "      <td>539</td>\n",
              "      <td>177</td>\n",
              "      <td>626</td>\n",
              "      <td>621</td>\n",
              "      <td>432</td>\n",
              "    </tr>\n",
              "    <tr>\n",
              "      <th>43158</th>\n",
              "      <td>2014</td>\n",
              "      <td>12</td>\n",
              "      <td>31</td>\n",
              "      <td>14</td>\n",
              "      <td>0</td>\n",
              "      <td>199</td>\n",
              "      <td>115</td>\n",
              "      <td>387</td>\n",
              "      <td>441</td>\n",
              "      <td>415</td>\n",
              "      <td>285</td>\n",
              "      <td>437</td>\n",
              "      <td>424</td>\n",
              "      <td>230</td>\n",
              "      <td>446</td>\n",
              "      <td>462</td>\n",
              "      <td>431</td>\n",
              "      <td>369</td>\n",
              "      <td>321</td>\n",
              "      <td>469</td>\n",
              "      <td>99</td>\n",
              "      <td>497</td>\n",
              "      <td>355</td>\n",
              "      <td>394</td>\n",
              "    </tr>\n",
              "    <tr>\n",
              "      <th>43159</th>\n",
              "      <td>2014</td>\n",
              "      <td>12</td>\n",
              "      <td>31</td>\n",
              "      <td>15</td>\n",
              "      <td>0</td>\n",
              "      <td>71</td>\n",
              "      <td>136</td>\n",
              "      <td>224</td>\n",
              "      <td>323</td>\n",
              "      <td>137</td>\n",
              "      <td>128</td>\n",
              "      <td>270</td>\n",
              "      <td>226</td>\n",
              "      <td>290</td>\n",
              "      <td>280</td>\n",
              "      <td>291</td>\n",
              "      <td>265</td>\n",
              "      <td>225</td>\n",
              "      <td>309</td>\n",
              "      <td>202</td>\n",
              "      <td>72</td>\n",
              "      <td>186</td>\n",
              "      <td>195</td>\n",
              "      <td>302</td>\n",
              "    </tr>\n",
              "    <tr>\n",
              "      <th>43160</th>\n",
              "      <td>2014</td>\n",
              "      <td>12</td>\n",
              "      <td>31</td>\n",
              "      <td>16</td>\n",
              "      <td>0</td>\n",
              "      <td>28</td>\n",
              "      <td>24</td>\n",
              "      <td>81</td>\n",
              "      <td>129</td>\n",
              "      <td>19</td>\n",
              "      <td>48</td>\n",
              "      <td>78</td>\n",
              "      <td>43</td>\n",
              "      <td>52</td>\n",
              "      <td>91</td>\n",
              "      <td>82</td>\n",
              "      <td>35</td>\n",
              "      <td>66</td>\n",
              "      <td>100</td>\n",
              "      <td>49</td>\n",
              "      <td>29</td>\n",
              "      <td>34</td>\n",
              "      <td>123</td>\n",
              "      <td>109</td>\n",
              "    </tr>\n",
              "  </tbody>\n",
              "</table>\n",
              "<p>43161 rows × 24 columns</p>\n",
              "</div>"
            ],
            "text/plain": [
              "       Year  Month  Day  Hour  Minute  ...  GHI.14  GHI.15  GHI.16  GHI.17  GHI.18\n",
              "0      2005      1    1     7       0  ...      79      70      87      55      59\n",
              "1      2005      1    1     8       0  ...     245     205     298     191     266\n",
              "2      2005      1    1     9       0  ...     352     204     416     354     341\n",
              "3      2005      1    1    10       0  ...     403     570     539     377     493\n",
              "4      2005      1    1    11       0  ...     587     566     571     644     325\n",
              "...     ...    ...  ...   ...     ...  ...     ...     ...     ...     ...     ...\n",
              "43156  2014     12   31    12       0  ...     668     449     685     683     655\n",
              "43157  2014     12   31    13       0  ...     539     177     626     621     432\n",
              "43158  2014     12   31    14       0  ...     469      99     497     355     394\n",
              "43159  2014     12   31    15       0  ...     202      72     186     195     302\n",
              "43160  2014     12   31    16       0  ...      49      29      34     123     109\n",
              "\n",
              "[43161 rows x 24 columns]"
            ]
          },
          "metadata": {
            "tags": []
          },
          "execution_count": 153
        }
      ]
    },
    {
      "cell_type": "code",
      "metadata": {
        "id": "YVeST1RhcWaR"
      },
      "source": [
        "#dta = dta.iloc[::-1]"
      ],
      "execution_count": null,
      "outputs": []
    },
    {
      "cell_type": "code",
      "metadata": {
        "id": "9MNzK2nNcc-W"
      },
      "source": [
        "dta = dta['GHI.18'].values"
      ],
      "execution_count": null,
      "outputs": []
    },
    {
      "cell_type": "code",
      "metadata": {
        "colab": {
          "base_uri": "https://localhost:8080/"
        },
        "id": "xkjS6GEedBfa",
        "outputId": "3aa807a5-e9f0-42da-803e-98dd508e493e"
      },
      "source": [
        "dta"
      ],
      "execution_count": null,
      "outputs": [
        {
          "output_type": "execute_result",
          "data": {
            "text/plain": [
              "array([ 59, 266, 341, ..., 394, 302, 109])"
            ]
          },
          "metadata": {
            "tags": []
          },
          "execution_count": 156
        }
      ]
    },
    {
      "cell_type": "code",
      "metadata": {
        "colab": {
          "base_uri": "https://localhost:8080/",
          "height": 282
        },
        "id": "rg2aC-WFYmQV",
        "outputId": "cb842ba0-688c-4821-92b1-52fe15ed88e8"
      },
      "source": [
        "plt.plot(dta)"
      ],
      "execution_count": null,
      "outputs": [
        {
          "output_type": "execute_result",
          "data": {
            "text/plain": [
              "[<matplotlib.lines.Line2D at 0x7fef157d3160>]"
            ]
          },
          "metadata": {
            "tags": []
          },
          "execution_count": 157
        },
        {
          "output_type": "display_data",
          "data": {
            "image/png": "[encoded data removed]",
            "text/plain": [
              "<Figure size 432x288 with 1 Axes>"
            ]
          },
          "metadata": {
            "tags": [],
            "needs_background": "light"
          }
        }
      ]
    },
    {
      "cell_type": "code",
      "metadata": {
        "id": "ks0YIiiIWWBz"
      },
      "source": [
        "from statsmodels.tsa.arima_model import ARIMA\n",
        "from sklearn.metrics import mean_squared_error"
      ],
      "execution_count": null,
      "outputs": []
    },
    {
      "cell_type": "code",
      "metadata": {
        "colab": {
          "base_uri": "https://localhost:8080/",
          "height": 282
        },
        "id": "rnhKihDbG9z6",
        "outputId": "e4a20033-9a8a-4b7a-d4b2-224ed6c49cb9"
      },
      "source": [
        "series = dta.tolist()\n",
        "plt.plot(series)\n",
        "len(series)"
      ],
      "execution_count": null,
      "outputs": [
        {
          "output_type": "execute_result",
          "data": {
            "text/plain": [
              "43161"
            ]
          },
          "metadata": {
            "tags": []
          },
          "execution_count": 159
        },
        {
          "output_type": "display_data",
          "data": {
            "image/png": "[encoded data removed]",
            "text/plain": [
              "<Figure size 432x288 with 1 Axes>"
            ]
          },
          "metadata": {
            "tags": [],
            "needs_background": "light"
          }
        }
      ]
    },
    {
      "cell_type": "code",
      "metadata": {
        "id": "bJKLkvhLMZqH"
      },
      "source": [
        "#series = np.log10(series)\n",
        "#plt.plot(series)"
      ],
      "execution_count": null,
      "outputs": []
    },
    {
      "cell_type": "code",
      "metadata": {
        "id": "JIXJwjMN947-"
      },
      "source": [
        "#series = series.tolist()"
      ],
      "execution_count": null,
      "outputs": []
    },
    {
      "cell_type": "code",
      "metadata": {
        "colab": {
          "base_uri": "https://localhost:8080/"
        },
        "id": "sI3WmRqmgWAz",
        "outputId": "8ac1e302-a280-454c-de8d-1e62cc0b8ea1"
      },
      "source": [
        "43161*80/100, 43161-34529"
      ],
      "execution_count": null,
      "outputs": [
        {
          "output_type": "execute_result",
          "data": {
            "text/plain": [
              "(34528.8, 8632)"
            ]
          },
          "metadata": {
            "tags": []
          },
          "execution_count": 162
        }
      ]
    },
    {
      "cell_type": "code",
      "metadata": {
        "colab": {
          "base_uri": "https://localhost:8080/"
        },
        "id": "b5h00CFYWZZq",
        "outputId": "e7f16ec1-db88-4238-e3c1-f8502ba68463"
      },
      "source": [
        "#split into test and train\n",
        "#percentage = 0.6\n",
        "train, test = series[0:34529], series[34529:43161]\n",
        "len(train), len(test)"
      ],
      "execution_count": null,
      "outputs": [
        {
          "output_type": "execute_result",
          "data": {
            "text/plain": [
              "(34529, 8632)"
            ]
          },
          "metadata": {
            "tags": []
          },
          "execution_count": 163
        }
      ]
    },
    {
      "cell_type": "code",
      "metadata": {
        "id": "UHuupsFfu16d"
      },
      "source": [
        ""
      ],
      "execution_count": null,
      "outputs": []
    },
    {
      "cell_type": "markdown",
      "metadata": {
        "id": "WyoKzS_eu33B"
      },
      "source": [
        "# TRAIN"
      ]
    },
    {
      "cell_type": "code",
      "metadata": {
        "id": "xYMXXangXnWZ"
      },
      "source": [
        "from keras.models import Sequential\n",
        "from keras.layers import Dense,Activation,Dropout\n",
        "from keras.layers.recurrent import SimpleRNN, LSTM\n",
        "from sklearn import preprocessing\n",
        "from keras.wrappers.scikit_learn import KerasRegressor\n",
        "from keras.layers.recurrent import LSTM"
      ],
      "execution_count": null,
      "outputs": []
    },
    {
      "cell_type": "code",
      "metadata": {
        "id": "1lfpxOfMSCWL"
      },
      "source": [
        "residual = train"
      ],
      "execution_count": null,
      "outputs": []
    },
    {
      "cell_type": "code",
      "metadata": {
        "colab": {
          "base_uri": "https://localhost:8080/",
          "height": 281
        },
        "id": "uW0A2W65I2W9",
        "outputId": "eab86ac2-c318-4863-f093-aaeea99e0dde"
      },
      "source": [
        "from pandas import read_csv\n",
        "from matplotlib import pyplot\n",
        "from statsmodels.graphics.tsaplots import plot_pacf\n",
        "plot_pacf(residual, lags=15)\n",
        "pyplot.show()"
      ],
      "execution_count": null,
      "outputs": [
        {
          "output_type": "display_data",
          "data": {
            "image/png": "[encoded data removed]",
            "text/plain": [
              "<Figure size 432x288 with 1 Axes>"
            ]
          },
          "metadata": {
            "tags": [],
            "needs_background": "light"
          }
        }
      ]
    },
    {
      "cell_type": "code",
      "metadata": {
        "colab": {
          "base_uri": "https://localhost:8080/",
          "height": 206
        },
        "id": "nCcdK8PcMuk7",
        "outputId": "fa940d9a-2fbb-4bab-c18a-a62cfbf31315"
      },
      "source": [
        "dataset = pd.DataFrame(residual)\n",
        "\n",
        "window_size = 5\n",
        "\n",
        "datasett = dataset.copy()\n",
        "for i in range(window_size):\n",
        "    dataset = pd.concat([dataset, datasett.shift(-(i+1))], axis = 1)   \n",
        "dataset.dropna(axis=0, inplace=True)\n",
        "\n",
        "residual = dataset\n",
        "residual.head()"
      ],
      "execution_count": null,
      "outputs": [
        {
          "output_type": "execute_result",
          "data": {
            "text/html": [
              "<div>\n",
              "<style scoped>\n",
              "    .dataframe tbody tr th:only-of-type {\n",
              "        vertical-align: middle;\n",
              "    }\n",
              "\n",
              "    .dataframe tbody tr th {\n",
              "        vertical-align: top;\n",
              "    }\n",
              "\n",
              "    .dataframe thead th {\n",
              "        text-align: right;\n",
              "    }\n",
              "</style>\n",
              "<table border=\"1\" class=\"dataframe\">\n",
              "  <thead>\n",
              "    <tr style=\"text-align: right;\">\n",
              "      <th></th>\n",
              "      <th>0</th>\n",
              "      <th>0</th>\n",
              "      <th>0</th>\n",
              "      <th>0</th>\n",
              "      <th>0</th>\n",
              "      <th>0</th>\n",
              "    </tr>\n",
              "  </thead>\n",
              "  <tbody>\n",
              "    <tr>\n",
              "      <th>0</th>\n",
              "      <td>59</td>\n",
              "      <td>266.0</td>\n",
              "      <td>341.0</td>\n",
              "      <td>493.0</td>\n",
              "      <td>325.0</td>\n",
              "      <td>610.0</td>\n",
              "    </tr>\n",
              "    <tr>\n",
              "      <th>1</th>\n",
              "      <td>266</td>\n",
              "      <td>341.0</td>\n",
              "      <td>493.0</td>\n",
              "      <td>325.0</td>\n",
              "      <td>610.0</td>\n",
              "      <td>169.0</td>\n",
              "    </tr>\n",
              "    <tr>\n",
              "      <th>2</th>\n",
              "      <td>341</td>\n",
              "      <td>493.0</td>\n",
              "      <td>325.0</td>\n",
              "      <td>610.0</td>\n",
              "      <td>169.0</td>\n",
              "      <td>216.0</td>\n",
              "    </tr>\n",
              "    <tr>\n",
              "      <th>3</th>\n",
              "      <td>493</td>\n",
              "      <td>325.0</td>\n",
              "      <td>610.0</td>\n",
              "      <td>169.0</td>\n",
              "      <td>216.0</td>\n",
              "      <td>107.0</td>\n",
              "    </tr>\n",
              "    <tr>\n",
              "      <th>4</th>\n",
              "      <td>325</td>\n",
              "      <td>610.0</td>\n",
              "      <td>169.0</td>\n",
              "      <td>216.0</td>\n",
              "      <td>107.0</td>\n",
              "      <td>26.0</td>\n",
              "    </tr>\n",
              "  </tbody>\n",
              "</table>\n",
              "</div>"
            ],
            "text/plain": [
              "     0      0      0      0      0      0\n",
              "0   59  266.0  341.0  493.0  325.0  610.0\n",
              "1  266  341.0  493.0  325.0  610.0  169.0\n",
              "2  341  493.0  325.0  610.0  169.0  216.0\n",
              "3  493  325.0  610.0  169.0  216.0  107.0\n",
              "4  325  610.0  169.0  216.0  107.0   26.0"
            ]
          },
          "metadata": {
            "tags": []
          },
          "execution_count": 167
        }
      ]
    },
    {
      "cell_type": "code",
      "metadata": {
        "colab": {
          "base_uri": "https://localhost:8080/"
        },
        "id": "8XvM4ky8PAI9",
        "outputId": "c364abf0-baf6-42fc-c7e0-4ae509116b7e"
      },
      "source": [
        "residual.shape"
      ],
      "execution_count": null,
      "outputs": [
        {
          "output_type": "execute_result",
          "data": {
            "text/plain": [
              "(34524, 6)"
            ]
          },
          "metadata": {
            "tags": []
          },
          "execution_count": 168
        }
      ]
    },
    {
      "cell_type": "code",
      "metadata": {
        "colab": {
          "base_uri": "https://localhost:8080/"
        },
        "id": "uj2aoSelGyuQ",
        "outputId": "b2f4e09c-7f40-467a-e8a7-e76d3c26b95e"
      },
      "source": [
        "residual = np.array(residual)\n",
        "nn_y = residual[:,[5]]\n",
        "nn_y.shape "
      ],
      "execution_count": null,
      "outputs": [
        {
          "output_type": "execute_result",
          "data": {
            "text/plain": [
              "(34524, 1)"
            ]
          },
          "metadata": {
            "tags": []
          },
          "execution_count": 169
        }
      ]
    },
    {
      "cell_type": "code",
      "metadata": {
        "colab": {
          "base_uri": "https://localhost:8080/"
        },
        "id": "7wU6iL9bSL2m",
        "outputId": "8da97d9b-5fa0-4cb5-f9bd-8ef66c281569"
      },
      "source": [
        "nn_x = residual[:,0:5]\n",
        "nn_x.shape"
      ],
      "execution_count": null,
      "outputs": [
        {
          "output_type": "execute_result",
          "data": {
            "text/plain": [
              "(34524, 5)"
            ]
          },
          "metadata": {
            "tags": []
          },
          "execution_count": 170
        }
      ]
    },
    {
      "cell_type": "code",
      "metadata": {
        "colab": {
          "base_uri": "https://localhost:8080/"
        },
        "id": "9TZ-UWjEUoR3",
        "outputId": "b7379161-abe2-496b-bcc9-b1d2ddb25ca5"
      },
      "source": [
        "nn_x.shape, nn_y.shape"
      ],
      "execution_count": null,
      "outputs": [
        {
          "output_type": "execute_result",
          "data": {
            "text/plain": [
              "((34524, 5), (34524, 1))"
            ]
          },
          "metadata": {
            "tags": []
          },
          "execution_count": 171
        }
      ]
    },
    {
      "cell_type": "code",
      "metadata": {
        "colab": {
          "base_uri": "https://localhost:8080/"
        },
        "id": "IZk7qiy5B6lD",
        "outputId": "658593ef-5e63-41c4-9961-e3bb19694771"
      },
      "source": [
        "\"\"\"\n",
        "Hybrid Model\n",
        "\"\"\"\n",
        "\n",
        "modelnn = Sequential()\n",
        "modelnn.add(LSTM(units = 50, input_shape=(1,1), return_sequences=True))\n",
        "modelnn.add(LSTM(50))\n",
        "#modelnn.add(Dense(10, input_dim=1))\n",
        "modelnn.add(Dense(25))\n",
        "modelnn.add(Dense(1))\n",
        "modelnn.add(Activation(\"linear\"))\n",
        "modelnn.compile(loss='mean_squared_error', optimizer='adam')\n",
        "modelnn.summary()"
      ],
      "execution_count": null,
      "outputs": [
        {
          "output_type": "stream",
          "text": [
            "Model: \"sequential_3\"\n",
            "_________________________________________________________________\n",
            "Layer (type)                 Output Shape              Param #   \n",
            "=================================================================\n",
            "lstm_4 (LSTM)                (None, 1, 50)             10400     \n",
            "_________________________________________________________________\n",
            "lstm_5 (LSTM)                (None, 50)                20200     \n",
            "_________________________________________________________________\n",
            "dense_6 (Dense)              (None, 25)                1275      \n",
            "_________________________________________________________________\n",
            "dense_7 (Dense)              (None, 1)                 26        \n",
            "_________________________________________________________________\n",
            "activation_3 (Activation)    (None, 1)                 0         \n",
            "=================================================================\n",
            "Total params: 31,901\n",
            "Trainable params: 31,901\n",
            "Non-trainable params: 0\n",
            "_________________________________________________________________\n"
          ],
          "name": "stdout"
        }
      ]
    },
    {
      "cell_type": "code",
      "metadata": {
        "id": "syCBOIkxCRAa"
      },
      "source": [
        "min_max_scaler = preprocessing.MinMaxScaler()"
      ],
      "execution_count": null,
      "outputs": []
    },
    {
      "cell_type": "code",
      "metadata": {
        "colab": {
          "base_uri": "https://localhost:8080/"
        },
        "id": "wXQ76BrUCXE7",
        "outputId": "0e44b312-ab71-4ac7-eeaf-8c09362758ab"
      },
      "source": [
        "train_nn_x_scaled = min_max_scaler.fit_transform(nn_x) \n",
        "train_nn_x_scaled.shape"
      ],
      "execution_count": null,
      "outputs": [
        {
          "output_type": "execute_result",
          "data": {
            "text/plain": [
              "(34524, 5)"
            ]
          },
          "metadata": {
            "tags": []
          },
          "execution_count": 174
        }
      ]
    },
    {
      "cell_type": "code",
      "metadata": {
        "colab": {
          "base_uri": "https://localhost:8080/"
        },
        "id": "azSsfLOeVZvz",
        "outputId": "6c349baa-a55a-4f40-8648-3e45b0381d83"
      },
      "source": [
        "train_nn_y_scaled = min_max_scaler.fit_transform(nn_y) \n",
        "train_nn_y_scaled.shape"
      ],
      "execution_count": null,
      "outputs": [
        {
          "output_type": "execute_result",
          "data": {
            "text/plain": [
              "(34524, 1)"
            ]
          },
          "metadata": {
            "tags": []
          },
          "execution_count": 175
        }
      ]
    },
    {
      "cell_type": "code",
      "metadata": {
        "colab": {
          "base_uri": "https://localhost:8080/"
        },
        "id": "lWtMu4teCO-g",
        "outputId": "054471b9-25b7-4ef3-823d-e8d77f11b85e"
      },
      "source": [
        "train_nn_x_scaled = np.reshape(train_nn_x_scaled, (train_nn_x_scaled.shape[0], train_nn_x_scaled.shape[1], 1))\n",
        "modelnn.fit(train_nn_x_scaled,train_nn_y_scaled, epochs=50, batch_size=32, validation_split = .05)"
      ],
      "execution_count": null,
      "outputs": [
        {
          "output_type": "stream",
          "text": [
            "Epoch 1/50\n",
            "WARNING:tensorflow:Model was constructed with shape (None, 1, 1) for input Tensor(\"lstm_4_input:0\", shape=(None, 1, 1), dtype=float32), but it was called on an input with incompatible shape (None, 5, 1).\n",
            "WARNING:tensorflow:Model was constructed with shape (None, 1, 1) for input Tensor(\"lstm_4_input:0\", shape=(None, 1, 1), dtype=float32), but it was called on an input with incompatible shape (None, 5, 1).\n",
            "1023/1025 [============================>.] - ETA: 0s - loss: 0.0242WARNING:tensorflow:Model was constructed with shape (None, 1, 1) for input Tensor(\"lstm_4_input:0\", shape=(None, 1, 1), dtype=float32), but it was called on an input with incompatible shape (None, 5, 1).\n",
            "1025/1025 [==============================] - 7s 7ms/step - loss: 0.0241 - val_loss: 0.0108\n",
            "Epoch 2/50\n",
            "1025/1025 [==============================] - 7s 7ms/step - loss: 0.0113 - val_loss: 0.0100\n",
            "Epoch 3/50\n",
            "1025/1025 [==============================] - 7s 7ms/step - loss: 0.0103 - val_loss: 0.0096\n",
            "Epoch 4/50\n",
            "1025/1025 [==============================] - 7s 7ms/step - loss: 0.0099 - val_loss: 0.0096\n",
            "Epoch 5/50\n",
            "1025/1025 [==============================] - 7s 6ms/step - loss: 0.0096 - val_loss: 0.0092\n",
            "Epoch 6/50\n",
            "1025/1025 [==============================] - 7s 7ms/step - loss: 0.0094 - val_loss: 0.0086\n",
            "Epoch 7/50\n",
            "1025/1025 [==============================] - 7s 7ms/step - loss: 0.0091 - val_loss: 0.0083\n",
            "Epoch 8/50\n",
            "1025/1025 [==============================] - 7s 6ms/step - loss: 0.0091 - val_loss: 0.0082\n",
            "Epoch 9/50\n",
            "1025/1025 [==============================] - 7s 7ms/step - loss: 0.0089 - val_loss: 0.0082\n",
            "Epoch 10/50\n",
            "1025/1025 [==============================] - 7s 7ms/step - loss: 0.0089 - val_loss: 0.0082\n",
            "Epoch 11/50\n",
            "1025/1025 [==============================] - 7s 7ms/step - loss: 0.0087 - val_loss: 0.0084\n",
            "Epoch 12/50\n",
            "1025/1025 [==============================] - 7s 7ms/step - loss: 0.0087 - val_loss: 0.0079\n",
            "Epoch 13/50\n",
            "1025/1025 [==============================] - 7s 7ms/step - loss: 0.0085 - val_loss: 0.0079\n",
            "Epoch 14/50\n",
            "1025/1025 [==============================] - 7s 7ms/step - loss: 0.0084 - val_loss: 0.0077\n",
            "Epoch 15/50\n",
            "1025/1025 [==============================] - 7s 7ms/step - loss: 0.0083 - val_loss: 0.0077\n",
            "Epoch 16/50\n",
            "1025/1025 [==============================] - 7s 7ms/step - loss: 0.0083 - val_loss: 0.0076\n",
            "Epoch 17/50\n",
            "1025/1025 [==============================] - 7s 7ms/step - loss: 0.0082 - val_loss: 0.0079\n",
            "Epoch 18/50\n",
            "1025/1025 [==============================] - 7s 7ms/step - loss: 0.0082 - val_loss: 0.0078\n",
            "Epoch 19/50\n",
            "1025/1025 [==============================] - 7s 7ms/step - loss: 0.0081 - val_loss: 0.0077\n",
            "Epoch 20/50\n",
            "1025/1025 [==============================] - 7s 7ms/step - loss: 0.0081 - val_loss: 0.0083\n",
            "Epoch 21/50\n",
            "1025/1025 [==============================] - 7s 7ms/step - loss: 0.0081 - val_loss: 0.0075\n",
            "Epoch 22/50\n",
            "1025/1025 [==============================] - 7s 7ms/step - loss: 0.0080 - val_loss: 0.0075\n",
            "Epoch 23/50\n",
            "1025/1025 [==============================] - 7s 7ms/step - loss: 0.0080 - val_loss: 0.0074\n",
            "Epoch 24/50\n",
            "1025/1025 [==============================] - 7s 7ms/step - loss: 0.0079 - val_loss: 0.0077\n",
            "Epoch 25/50\n",
            "1025/1025 [==============================] - 7s 7ms/step - loss: 0.0080 - val_loss: 0.0075\n",
            "Epoch 26/50\n",
            "1025/1025 [==============================] - 7s 7ms/step - loss: 0.0079 - val_loss: 0.0075\n",
            "Epoch 27/50\n",
            "1025/1025 [==============================] - 7s 7ms/step - loss: 0.0078 - val_loss: 0.0074\n",
            "Epoch 28/50\n",
            "1025/1025 [==============================] - 7s 7ms/step - loss: 0.0078 - val_loss: 0.0075\n",
            "Epoch 29/50\n",
            "1025/1025 [==============================] - 7s 7ms/step - loss: 0.0078 - val_loss: 0.0076\n",
            "Epoch 30/50\n",
            "1025/1025 [==============================] - 7s 7ms/step - loss: 0.0078 - val_loss: 0.0075\n",
            "Epoch 31/50\n",
            "1025/1025 [==============================] - 7s 7ms/step - loss: 0.0078 - val_loss: 0.0074\n",
            "Epoch 32/50\n",
            "1025/1025 [==============================] - 7s 7ms/step - loss: 0.0077 - val_loss: 0.0079\n",
            "Epoch 33/50\n",
            "1025/1025 [==============================] - 7s 6ms/step - loss: 0.0077 - val_loss: 0.0077\n",
            "Epoch 34/50\n",
            "1025/1025 [==============================] - 7s 7ms/step - loss: 0.0077 - val_loss: 0.0078\n",
            "Epoch 35/50\n",
            "1025/1025 [==============================] - 7s 7ms/step - loss: 0.0077 - val_loss: 0.0075\n",
            "Epoch 36/50\n",
            "1025/1025 [==============================] - 7s 7ms/step - loss: 0.0077 - val_loss: 0.0075\n",
            "Epoch 37/50\n",
            "1025/1025 [==============================] - 7s 6ms/step - loss: 0.0076 - val_loss: 0.0074\n",
            "Epoch 38/50\n",
            "1025/1025 [==============================] - 7s 6ms/step - loss: 0.0076 - val_loss: 0.0073\n",
            "Epoch 39/50\n",
            "1025/1025 [==============================] - 7s 7ms/step - loss: 0.0076 - val_loss: 0.0074\n",
            "Epoch 40/50\n",
            "1025/1025 [==============================] - 7s 6ms/step - loss: 0.0076 - val_loss: 0.0076\n",
            "Epoch 41/50\n",
            "1025/1025 [==============================] - 7s 6ms/step - loss: 0.0076 - val_loss: 0.0074\n",
            "Epoch 42/50\n",
            "1025/1025 [==============================] - 7s 6ms/step - loss: 0.0076 - val_loss: 0.0073\n",
            "Epoch 43/50\n",
            "1025/1025 [==============================] - 7s 7ms/step - loss: 0.0076 - val_loss: 0.0074\n",
            "Epoch 44/50\n",
            "1025/1025 [==============================] - 7s 6ms/step - loss: 0.0075 - val_loss: 0.0072\n",
            "Epoch 45/50\n",
            "1025/1025 [==============================] - 7s 6ms/step - loss: 0.0075 - val_loss: 0.0073\n",
            "Epoch 46/50\n",
            "1025/1025 [==============================] - 7s 7ms/step - loss: 0.0075 - val_loss: 0.0077\n",
            "Epoch 47/50\n",
            "1025/1025 [==============================] - 7s 7ms/step - loss: 0.0075 - val_loss: 0.0072\n",
            "Epoch 48/50\n",
            "1025/1025 [==============================] - 7s 6ms/step - loss: 0.0075 - val_loss: 0.0073\n",
            "Epoch 49/50\n",
            "1025/1025 [==============================] - 7s 7ms/step - loss: 0.0075 - val_loss: 0.0074\n",
            "Epoch 50/50\n",
            "1025/1025 [==============================] - 7s 7ms/step - loss: 0.0074 - val_loss: 0.0073\n"
          ],
          "name": "stdout"
        },
        {
          "output_type": "execute_result",
          "data": {
            "text/plain": [
              "<tensorflow.python.keras.callbacks.History at 0x7fef1555efd0>"
            ]
          },
          "metadata": {
            "tags": []
          },
          "execution_count": 176
        }
      ]
    },
    {
      "cell_type": "code",
      "metadata": {
        "id": "2KoLuBydUS7s"
      },
      "source": [
        ""
      ],
      "execution_count": null,
      "outputs": []
    },
    {
      "cell_type": "code",
      "metadata": {
        "id": "sPZCtMQTxVyU"
      },
      "source": [
        ""
      ],
      "execution_count": null,
      "outputs": []
    },
    {
      "cell_type": "markdown",
      "metadata": {
        "id": "z2yBwiiAxWs-"
      },
      "source": [
        "# TEST"
      ]
    },
    {
      "cell_type": "code",
      "metadata": {
        "id": "6dSOlgiYxWua"
      },
      "source": [
        "from keras.models import Sequential\n",
        "from keras.layers import Dense,Activation,Dropout\n",
        "from sklearn import preprocessing\n",
        "from keras.wrappers.scikit_learn import KerasRegressor\n",
        "from keras.layers.recurrent import LSTM"
      ],
      "execution_count": null,
      "outputs": []
    },
    {
      "cell_type": "code",
      "metadata": {
        "id": "fwj9w--ZxWup"
      },
      "source": [
        "residual = test"
      ],
      "execution_count": null,
      "outputs": []
    },
    {
      "cell_type": "code",
      "metadata": {
        "colab": {
          "base_uri": "https://localhost:8080/"
        },
        "id": "qxGZhI6DxWvN",
        "outputId": "676202bb-fe2b-4c35-952f-fc4bad9ff524"
      },
      "source": [
        "dataset = pd.DataFrame(residual)\n",
        "\n",
        "window_size = 5\n",
        "\n",
        "datasett = dataset.copy()\n",
        "for i in range(window_size):\n",
        "    dataset = pd.concat([dataset, datasett.shift(-(i+1))], axis = 1)   \n",
        "dataset.dropna(axis=0, inplace=True)\n",
        "\n",
        "residual = dataset\n",
        "residual.head()"
      ],
      "execution_count": null,
      "outputs": [
        {
          "output_type": "execute_result",
          "data": {
            "text/html": [
              "<div>\n",
              "<style scoped>\n",
              "    .dataframe tbody tr th:only-of-type {\n",
              "        vertical-align: middle;\n",
              "    }\n",
              "\n",
              "    .dataframe tbody tr th {\n",
              "        vertical-align: top;\n",
              "    }\n",
              "\n",
              "    .dataframe thead th {\n",
              "        text-align: right;\n",
              "    }\n",
              "</style>\n",
              "<table border=\"1\" class=\"dataframe\">\n",
              "  <thead>\n",
              "    <tr style=\"text-align: right;\">\n",
              "      <th></th>\n",
              "      <th>0</th>\n",
              "      <th>0</th>\n",
              "      <th>0</th>\n",
              "      <th>0</th>\n",
              "      <th>0</th>\n",
              "      <th>0</th>\n",
              "    </tr>\n",
              "  </thead>\n",
              "  <tbody>\n",
              "    <tr>\n",
              "      <th>0</th>\n",
              "      <td>114</td>\n",
              "      <td>76.0</td>\n",
              "      <td>262.0</td>\n",
              "      <td>439.0</td>\n",
              "      <td>574.0</td>\n",
              "      <td>651.0</td>\n",
              "    </tr>\n",
              "    <tr>\n",
              "      <th>1</th>\n",
              "      <td>76</td>\n",
              "      <td>262.0</td>\n",
              "      <td>439.0</td>\n",
              "      <td>574.0</td>\n",
              "      <td>651.0</td>\n",
              "      <td>659.0</td>\n",
              "    </tr>\n",
              "    <tr>\n",
              "      <th>2</th>\n",
              "      <td>262</td>\n",
              "      <td>439.0</td>\n",
              "      <td>574.0</td>\n",
              "      <td>651.0</td>\n",
              "      <td>659.0</td>\n",
              "      <td>599.0</td>\n",
              "    </tr>\n",
              "    <tr>\n",
              "      <th>3</th>\n",
              "      <td>439</td>\n",
              "      <td>574.0</td>\n",
              "      <td>651.0</td>\n",
              "      <td>659.0</td>\n",
              "      <td>599.0</td>\n",
              "      <td>478.0</td>\n",
              "    </tr>\n",
              "    <tr>\n",
              "      <th>4</th>\n",
              "      <td>574</td>\n",
              "      <td>651.0</td>\n",
              "      <td>659.0</td>\n",
              "      <td>599.0</td>\n",
              "      <td>478.0</td>\n",
              "      <td>309.0</td>\n",
              "    </tr>\n",
              "  </tbody>\n",
              "</table>\n",
              "</div>"
            ],
            "text/plain": [
              "     0      0      0      0      0      0\n",
              "0  114   76.0  262.0  439.0  574.0  651.0\n",
              "1   76  262.0  439.0  574.0  651.0  659.0\n",
              "2  262  439.0  574.0  651.0  659.0  599.0\n",
              "3  439  574.0  651.0  659.0  599.0  478.0\n",
              "4  574  651.0  659.0  599.0  478.0  309.0"
            ]
          },
          "metadata": {
            "tags": []
          },
          "execution_count": 179
        }
      ]
    },
    {
      "cell_type": "code",
      "metadata": {
        "colab": {
          "base_uri": "https://localhost:8080/"
        },
        "id": "AOm26VzrxWvY",
        "outputId": "2789e2bf-2061-495a-d52d-e86c5251d352"
      },
      "source": [
        "residual.shape"
      ],
      "execution_count": null,
      "outputs": [
        {
          "output_type": "execute_result",
          "data": {
            "text/plain": [
              "(8627, 6)"
            ]
          },
          "metadata": {
            "tags": []
          },
          "execution_count": 180
        }
      ]
    },
    {
      "cell_type": "code",
      "metadata": {
        "colab": {
          "base_uri": "https://localhost:8080/"
        },
        "id": "VFKHzWRvxWwd",
        "outputId": "daa40acf-3d31-403c-c782-32371fbe47ad"
      },
      "source": [
        "residual = np.array(residual)\n",
        "nn_y = residual[:,[5]]\n",
        "nn_y.shape "
      ],
      "execution_count": null,
      "outputs": [
        {
          "output_type": "execute_result",
          "data": {
            "text/plain": [
              "(8627, 1)"
            ]
          },
          "metadata": {
            "tags": []
          },
          "execution_count": 181
        }
      ]
    },
    {
      "cell_type": "code",
      "metadata": {
        "colab": {
          "base_uri": "https://localhost:8080/"
        },
        "id": "JoCLWbSfxWw0",
        "outputId": "041a6ac2-d7fd-4245-e3b8-95e2c3eb29e8"
      },
      "source": [
        "nn_x_test = residual[:,0:5]\n",
        "nn_x_test.shape"
      ],
      "execution_count": null,
      "outputs": [
        {
          "output_type": "execute_result",
          "data": {
            "text/plain": [
              "(8627, 5)"
            ]
          },
          "metadata": {
            "tags": []
          },
          "execution_count": 182
        }
      ]
    },
    {
      "cell_type": "code",
      "metadata": {
        "colab": {
          "base_uri": "https://localhost:8080/"
        },
        "id": "VSFX30BvxWw_",
        "outputId": "f0c44dac-c971-41db-c571-6c5083da92e1"
      },
      "source": [
        "nn_x_test.shape, nn_y.shape"
      ],
      "execution_count": null,
      "outputs": [
        {
          "output_type": "execute_result",
          "data": {
            "text/plain": [
              "((8627, 5), (8627, 1))"
            ]
          },
          "metadata": {
            "tags": []
          },
          "execution_count": 183
        }
      ]
    },
    {
      "cell_type": "code",
      "metadata": {
        "id": "3MNgmqtmxWxf"
      },
      "source": [
        "min_max_scaler = preprocessing.MinMaxScaler()"
      ],
      "execution_count": null,
      "outputs": []
    },
    {
      "cell_type": "code",
      "metadata": {
        "colab": {
          "base_uri": "https://localhost:8080/"
        },
        "id": "8N6WaRS4xWxs",
        "outputId": "4e6cea9b-b503-4034-fb34-3c0f29b82c38"
      },
      "source": [
        "train_nn_x_test_scaled = min_max_scaler.fit_transform(nn_x_test) \n",
        "train_nn_x_test_scaled.shape"
      ],
      "execution_count": null,
      "outputs": [
        {
          "output_type": "execute_result",
          "data": {
            "text/plain": [
              "(8627, 5)"
            ]
          },
          "metadata": {
            "tags": []
          },
          "execution_count": 185
        }
      ]
    },
    {
      "cell_type": "code",
      "metadata": {
        "colab": {
          "base_uri": "https://localhost:8080/"
        },
        "id": "86gZ33QSxWx3",
        "outputId": "f6f65e4d-033e-4ada-a7f5-a7b2ae087cdd"
      },
      "source": [
        "train_nn_y_test_scaled = min_max_scaler.fit_transform(nn_y) \n",
        "train_nn_y_test_scaled.shape"
      ],
      "execution_count": null,
      "outputs": [
        {
          "output_type": "execute_result",
          "data": {
            "text/plain": [
              "(8627, 1)"
            ]
          },
          "metadata": {
            "tags": []
          },
          "execution_count": 186
        }
      ]
    },
    {
      "cell_type": "code",
      "metadata": {
        "colab": {
          "base_uri": "https://localhost:8080/"
        },
        "id": "FWkJtMt2xWyC",
        "outputId": "0d2bade8-3533-42ad-982c-c7b55c153a32"
      },
      "source": [
        "train_nn_x_test_scaled = np.reshape(train_nn_x_test_scaled, (train_nn_x_test_scaled.shape[0], train_nn_x_test_scaled.shape[1], 1))\n",
        "final = modelnn.predict(train_nn_x_test_scaled)"
      ],
      "execution_count": null,
      "outputs": [
        {
          "output_type": "stream",
          "text": [
            "WARNING:tensorflow:Model was constructed with shape (None, 1, 1) for input Tensor(\"lstm_4_input:0\", shape=(None, 1, 1), dtype=float32), but it was called on an input with incompatible shape (None, 5, 1).\n"
          ],
          "name": "stdout"
        }
      ]
    },
    {
      "cell_type": "code",
      "metadata": {
        "id": "f5Mmarrs4_1l"
      },
      "source": [
        "#final = min_max_scaler.inverse_transform(final)"
      ],
      "execution_count": null,
      "outputs": []
    },
    {
      "cell_type": "code",
      "metadata": {
        "colab": {
          "base_uri": "https://localhost:8080/"
        },
        "id": "P6aEwCXn5K3t",
        "outputId": "6b86853d-77ff-4229-ccb7-8725fcf5140e"
      },
      "source": [
        "final.shape#, predictions.shape"
      ],
      "execution_count": null,
      "outputs": [
        {
          "output_type": "execute_result",
          "data": {
            "text/plain": [
              "(8627, 1)"
            ]
          },
          "metadata": {
            "tags": []
          },
          "execution_count": 189
        }
      ]
    },
    {
      "cell_type": "code",
      "metadata": {
        "colab": {
          "base_uri": "https://localhost:8080/"
        },
        "id": "dBFFq2VqxWyO",
        "outputId": "2b4bf1d0-a2fc-4e82-f9ee-abbf5826a133"
      },
      "source": [
        "plt.plot(final)\n",
        "plt.plot(train_nn_y_test_scaled)"
      ],
      "execution_count": null,
      "outputs": [
        {
          "output_type": "execute_result",
          "data": {
            "text/plain": [
              "[<matplotlib.lines.Line2D at 0x7fef124d6668>]"
            ]
          },
          "metadata": {
            "tags": []
          },
          "execution_count": 190
        },
        {
          "output_type": "display_data",
          "data": {
            "image/png": "[encoded data removed]",
            "text/plain": [
              "<Figure size 432x288 with 1 Axes>"
            ]
          },
          "metadata": {
            "tags": [],
            "needs_background": "light"
          }
        }
      ]
    },
    {
      "cell_type": "code",
      "metadata": {
        "id": "kLrVnUDM2Irr"
      },
      "source": [
        "true = train_nn_y_test_scaled"
      ],
      "execution_count": null,
      "outputs": []
    },
    {
      "cell_type": "code",
      "metadata": {
        "colab": {
          "base_uri": "https://localhost:8080/"
        },
        "id": "opHtoEet0ee7",
        "outputId": "67e09a6f-02d8-414c-d405-a756c17b2f51"
      },
      "source": [
        "from sklearn.metrics import mean_squared_error\n",
        "from math import sqrt\n",
        "MSE1=mean_squared_error(true, final)\n",
        "print(\"MSE:\",MSE1)\n",
        "\n",
        "RMSE = sqrt(MSE1)\n",
        "print(\"RMSE:\",RMSE)"
      ],
      "execution_count": null,
      "outputs": [
        {
          "output_type": "stream",
          "text": [
            "MSE: 0.007798203604205849\n",
            "RMSE: 0.08830743798914024\n"
          ],
          "name": "stdout"
        }
      ]
    },
    {
      "cell_type": "code",
      "metadata": {
        "colab": {
          "base_uri": "https://localhost:8080/"
        },
        "id": "Hn0328mR52jG",
        "outputId": "69eef7ca-db42-43da-f6db-64300ae53b26"
      },
      "source": [
        "from sklearn.metrics import mean_absolute_error\n",
        "MAE = mean_absolute_error(true, final)\n",
        "print(\"MAE:\",MAE)"
      ],
      "execution_count": null,
      "outputs": [
        {
          "output_type": "stream",
          "text": [
            "MAE: 0.052329648646909296\n"
          ],
          "name": "stdout"
        }
      ]
    },
    {
      "cell_type": "code",
      "metadata": {
        "colab": {
          "base_uri": "https://localhost:8080/"
        },
        "id": "wmEJjG9FGINp",
        "outputId": "321c0d20-37ae-48b3-fd5f-b22a23891d58"
      },
      "source": [
        "from sklearn.metrics import r2_score\n",
        "print('R2 score:',r2_score(true, final))"
      ],
      "execution_count": null,
      "outputs": [
        {
          "output_type": "stream",
          "text": [
            "R2 score: 0.906297569418153\n"
          ],
          "name": "stdout"
        }
      ]
    },
    {
      "cell_type": "code",
      "metadata": {
        "colab": {
          "base_uri": "https://localhost:8080/"
        },
        "id": "TfGn90PMWbuO",
        "outputId": "747cedb4-ec59-464d-ae02-d5823121d18f"
      },
      "source": [
        "error = sqrt(mean_squared_error(true, final))/np.mean(true)\n",
        "print(' nrmse var:',error)"
      ],
      "execution_count": null,
      "outputs": [
        {
          "output_type": "stream",
          "text": [
            " nrmse var: 0.1985114618406543\n"
          ],
          "name": "stdout"
        }
      ]
    },
    {
      "cell_type": "code",
      "metadata": {
        "id": "2wi1dGUC6OSY"
      },
      "source": [
        ""
      ],
      "execution_count": null,
      "outputs": []
    }
  ]
}